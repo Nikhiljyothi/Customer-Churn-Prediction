{
 "cells": [
  {
   "cell_type": "markdown",
   "metadata": {
    "application/vnd.databricks.v1+cell": {
     "cellMetadata": {
      "byteLimit": 2048000,
      "rowLimit": 10000
     },
     "inputWidgets": {},
     "nuid": "3b9c1eef-00e9-4523-a2c8-e7f6546239b1",
     "showTitle": false,
     "title": ""
    }
   },
   "source": [
    "# Customer Churn Prediction"
   ]
  },
  {
   "cell_type": "code",
   "execution_count": 0,
   "metadata": {
    "application/vnd.databricks.v1+cell": {
     "cellMetadata": {
      "byteLimit": 2048000,
      "rowLimit": 10000
     },
     "inputWidgets": {},
     "nuid": "c3f6afa8-95ed-42ac-a17b-e83ca78fe11e",
     "showTitle": false,
     "title": ""
    }
   },
   "outputs": [
    {
     "output_type": "display_data",
     "data": {
      "application/vnd.databricks.v1+bamboolib_hint": "{\"pd.DataFrames\": [], \"version\": \"0.0.1\"}",
      "text/plain": []
     },
     "metadata": {},
     "output_type": "display_data"
    }
   ],
   "source": [
    "#Importing neccessary libraries\n",
    "\n",
    "import pandas as pd\n",
    "import pyspark\n",
    "from pyspark.sql import SparkSession,Window\n",
    "from pyspark.sql.functions import *\n",
    "from pyspark.sql.types import *\n",
    "from pyspark.ml.feature import StandardScaler, StringIndexer, VectorAssembler, MinMaxScaler\n",
    "from pyspark.ml import Pipeline\n",
    "from pyspark.ml.classification import DecisionTreeClassifier, RandomForestClassifier\n",
    "from pyspark.ml.evaluation import MulticlassClassificationEvaluator\n",
    "import matplotlib.pyplot as plt\n",
    "import seaborn as sns"
   ]
  },
  {
   "cell_type": "code",
   "execution_count": 0,
   "metadata": {
    "application/vnd.databricks.v1+cell": {
     "cellMetadata": {
      "byteLimit": 2048000,
      "rowLimit": 10000
     },
     "inputWidgets": {},
     "nuid": "1969857e-373d-43f7-9888-ad28d5bad20b",
     "showTitle": false,
     "title": ""
    }
   },
   "outputs": [],
   "source": [
    "#Initialising Spark Session\n",
    "\n",
    "spark = SparkSession.builder\\\n",
    "    .appName(\"Sparkify Churn\")\\\n",
    "    .getOrCreate()"
   ]
  },
  {
   "cell_type": "code",
   "execution_count": 0,
   "metadata": {
    "application/vnd.databricks.v1+cell": {
     "cellMetadata": {
      "byteLimit": 2048000,
      "rowLimit": 10000
     },
     "inputWidgets": {},
     "nuid": "fa211d9f-08aa-42c9-b421-c62487ae2ec3",
     "showTitle": false,
     "title": ""
    }
   },
   "outputs": [
    {
     "output_type": "stream",
     "name": "stdout",
     "output_type": "stream",
     "text": [
      "Total Number of Records :  286500\n"
     ]
    }
   ],
   "source": [
    "#Loading data into dataframe\n",
    "\n",
    "df = spark.read.json(\"dbfs:/FileStore/shared_uploads/jrnikhil6@gmail.com/mini_sparkify_event_data.json\")\n",
    "print('Total Number of Records : ',df.count())"
   ]
  },
  {
   "cell_type": "code",
   "execution_count": 0,
   "metadata": {
    "application/vnd.databricks.v1+cell": {
     "cellMetadata": {
      "byteLimit": 2048000,
      "rowLimit": 10000
     },
     "inputWidgets": {},
     "nuid": "31a8c063-b4ea-4f36-a9ac-72d8e891317b",
     "showTitle": false,
     "title": ""
    }
   },
   "outputs": [
    {
     "output_type": "display_data",
     "data": {
      "text/html": [
       "<div>\n",
       "<style scoped>\n",
       "    .dataframe tbody tr th:only-of-type {\n",
       "        vertical-align: middle;\n",
       "    }\n",
       "\n",
       "    .dataframe tbody tr th {\n",
       "        vertical-align: top;\n",
       "    }\n",
       "\n",
       "    .dataframe thead th {\n",
       "        text-align: right;\n",
       "    }\n",
       "</style>\n",
       "<table border=\"1\" class=\"dataframe\">\n",
       "  <thead>\n",
       "    <tr style=\"text-align: right;\">\n",
       "      <th></th>\n",
       "      <th>artist</th>\n",
       "      <th>auth</th>\n",
       "      <th>firstName</th>\n",
       "      <th>gender</th>\n",
       "      <th>itemInSession</th>\n",
       "      <th>lastName</th>\n",
       "      <th>length</th>\n",
       "      <th>level</th>\n",
       "      <th>location</th>\n",
       "      <th>method</th>\n",
       "      <th>page</th>\n",
       "      <th>registration</th>\n",
       "      <th>sessionId</th>\n",
       "      <th>song</th>\n",
       "      <th>status</th>\n",
       "      <th>ts</th>\n",
       "      <th>userAgent</th>\n",
       "      <th>userId</th>\n",
       "    </tr>\n",
       "  </thead>\n",
       "  <tbody>\n",
       "    <tr>\n",
       "      <th>0</th>\n",
       "      <td>Martha Tilston</td>\n",
       "      <td>Logged In</td>\n",
       "      <td>Colin</td>\n",
       "      <td>M</td>\n",
       "      <td>50</td>\n",
       "      <td>Freeman</td>\n",
       "      <td>277.89016</td>\n",
       "      <td>paid</td>\n",
       "      <td>Bakersfield, CA</td>\n",
       "      <td>PUT</td>\n",
       "      <td>NextSong</td>\n",
       "      <td>1.538173e+12</td>\n",
       "      <td>29</td>\n",
       "      <td>Rockpools</td>\n",
       "      <td>200</td>\n",
       "      <td>1538352117000</td>\n",
       "      <td>Mozilla/5.0 (Windows NT 6.1; WOW64; rv:31.0) G...</td>\n",
       "      <td>30</td>\n",
       "    </tr>\n",
       "    <tr>\n",
       "      <th>1</th>\n",
       "      <td>Five Iron Frenzy</td>\n",
       "      <td>Logged In</td>\n",
       "      <td>Micah</td>\n",
       "      <td>M</td>\n",
       "      <td>79</td>\n",
       "      <td>Long</td>\n",
       "      <td>236.09424</td>\n",
       "      <td>free</td>\n",
       "      <td>Boston-Cambridge-Newton, MA-NH</td>\n",
       "      <td>PUT</td>\n",
       "      <td>NextSong</td>\n",
       "      <td>1.538332e+12</td>\n",
       "      <td>8</td>\n",
       "      <td>Canada</td>\n",
       "      <td>200</td>\n",
       "      <td>1538352180000</td>\n",
       "      <td>\"Mozilla/5.0 (Windows NT 6.1; WOW64) AppleWebK...</td>\n",
       "      <td>9</td>\n",
       "    </tr>\n",
       "    <tr>\n",
       "      <th>2</th>\n",
       "      <td>Adam Lambert</td>\n",
       "      <td>Logged In</td>\n",
       "      <td>Colin</td>\n",
       "      <td>M</td>\n",
       "      <td>51</td>\n",
       "      <td>Freeman</td>\n",
       "      <td>282.82730</td>\n",
       "      <td>paid</td>\n",
       "      <td>Bakersfield, CA</td>\n",
       "      <td>PUT</td>\n",
       "      <td>NextSong</td>\n",
       "      <td>1.538173e+12</td>\n",
       "      <td>29</td>\n",
       "      <td>Time For Miracles</td>\n",
       "      <td>200</td>\n",
       "      <td>1538352394000</td>\n",
       "      <td>Mozilla/5.0 (Windows NT 6.1; WOW64; rv:31.0) G...</td>\n",
       "      <td>30</td>\n",
       "    </tr>\n",
       "    <tr>\n",
       "      <th>3</th>\n",
       "      <td>Enigma</td>\n",
       "      <td>Logged In</td>\n",
       "      <td>Micah</td>\n",
       "      <td>M</td>\n",
       "      <td>80</td>\n",
       "      <td>Long</td>\n",
       "      <td>262.71302</td>\n",
       "      <td>free</td>\n",
       "      <td>Boston-Cambridge-Newton, MA-NH</td>\n",
       "      <td>PUT</td>\n",
       "      <td>NextSong</td>\n",
       "      <td>1.538332e+12</td>\n",
       "      <td>8</td>\n",
       "      <td>Knocking On Forbidden Doors</td>\n",
       "      <td>200</td>\n",
       "      <td>1538352416000</td>\n",
       "      <td>\"Mozilla/5.0 (Windows NT 6.1; WOW64) AppleWebK...</td>\n",
       "      <td>9</td>\n",
       "    </tr>\n",
       "    <tr>\n",
       "      <th>4</th>\n",
       "      <td>Daft Punk</td>\n",
       "      <td>Logged In</td>\n",
       "      <td>Colin</td>\n",
       "      <td>M</td>\n",
       "      <td>52</td>\n",
       "      <td>Freeman</td>\n",
       "      <td>223.60771</td>\n",
       "      <td>paid</td>\n",
       "      <td>Bakersfield, CA</td>\n",
       "      <td>PUT</td>\n",
       "      <td>NextSong</td>\n",
       "      <td>1.538173e+12</td>\n",
       "      <td>29</td>\n",
       "      <td>Harder Better Faster Stronger</td>\n",
       "      <td>200</td>\n",
       "      <td>1538352676000</td>\n",
       "      <td>Mozilla/5.0 (Windows NT 6.1; WOW64; rv:31.0) G...</td>\n",
       "      <td>30</td>\n",
       "    </tr>\n",
       "  </tbody>\n",
       "</table>\n",
       "</div>"
      ]
     },
     "metadata": {
      "application/vnd.databricks.v1+output": {
       "addedWidgets": {},
       "arguments": {},
       "data": "<div>\n<style scoped>\n    .dataframe tbody tr th:only-of-type {\n        vertical-align: middle;\n    }\n\n    .dataframe tbody tr th {\n        vertical-align: top;\n    }\n\n    .dataframe thead th {\n        text-align: right;\n    }\n</style>\n<table border=\"1\" class=\"dataframe\">\n  <thead>\n    <tr style=\"text-align: right;\">\n      <th></th>\n      <th>artist</th>\n      <th>auth</th>\n      <th>firstName</th>\n      <th>gender</th>\n      <th>itemInSession</th>\n      <th>lastName</th>\n      <th>length</th>\n      <th>level</th>\n      <th>location</th>\n      <th>method</th>\n      <th>page</th>\n      <th>registration</th>\n      <th>sessionId</th>\n      <th>song</th>\n      <th>status</th>\n      <th>ts</th>\n      <th>userAgent</th>\n      <th>userId</th>\n    </tr>\n  </thead>\n  <tbody>\n    <tr>\n      <th>0</th>\n      <td>Martha Tilston</td>\n      <td>Logged In</td>\n      <td>Colin</td>\n      <td>M</td>\n      <td>50</td>\n      <td>Freeman</td>\n      <td>277.89016</td>\n      <td>paid</td>\n      <td>Bakersfield, CA</td>\n      <td>PUT</td>\n      <td>NextSong</td>\n      <td>1.538173e+12</td>\n      <td>29</td>\n      <td>Rockpools</td>\n      <td>200</td>\n      <td>1538352117000</td>\n      <td>Mozilla/5.0 (Windows NT 6.1; WOW64; rv:31.0) G...</td>\n      <td>30</td>\n    </tr>\n    <tr>\n      <th>1</th>\n      <td>Five Iron Frenzy</td>\n      <td>Logged In</td>\n      <td>Micah</td>\n      <td>M</td>\n      <td>79</td>\n      <td>Long</td>\n      <td>236.09424</td>\n      <td>free</td>\n      <td>Boston-Cambridge-Newton, MA-NH</td>\n      <td>PUT</td>\n      <td>NextSong</td>\n      <td>1.538332e+12</td>\n      <td>8</td>\n      <td>Canada</td>\n      <td>200</td>\n      <td>1538352180000</td>\n      <td>\"Mozilla/5.0 (Windows NT 6.1; WOW64) AppleWebK...</td>\n      <td>9</td>\n    </tr>\n    <tr>\n      <th>2</th>\n      <td>Adam Lambert</td>\n      <td>Logged In</td>\n      <td>Colin</td>\n      <td>M</td>\n      <td>51</td>\n      <td>Freeman</td>\n      <td>282.82730</td>\n      <td>paid</td>\n      <td>Bakersfield, CA</td>\n      <td>PUT</td>\n      <td>NextSong</td>\n      <td>1.538173e+12</td>\n      <td>29</td>\n      <td>Time For Miracles</td>\n      <td>200</td>\n      <td>1538352394000</td>\n      <td>Mozilla/5.0 (Windows NT 6.1; WOW64; rv:31.0) G...</td>\n      <td>30</td>\n    </tr>\n    <tr>\n      <th>3</th>\n      <td>Enigma</td>\n      <td>Logged In</td>\n      <td>Micah</td>\n      <td>M</td>\n      <td>80</td>\n      <td>Long</td>\n      <td>262.71302</td>\n      <td>free</td>\n      <td>Boston-Cambridge-Newton, MA-NH</td>\n      <td>PUT</td>\n      <td>NextSong</td>\n      <td>1.538332e+12</td>\n      <td>8</td>\n      <td>Knocking On Forbidden Doors</td>\n      <td>200</td>\n      <td>1538352416000</td>\n      <td>\"Mozilla/5.0 (Windows NT 6.1; WOW64) AppleWebK...</td>\n      <td>9</td>\n    </tr>\n    <tr>\n      <th>4</th>\n      <td>Daft Punk</td>\n      <td>Logged In</td>\n      <td>Colin</td>\n      <td>M</td>\n      <td>52</td>\n      <td>Freeman</td>\n      <td>223.60771</td>\n      <td>paid</td>\n      <td>Bakersfield, CA</td>\n      <td>PUT</td>\n      <td>NextSong</td>\n      <td>1.538173e+12</td>\n      <td>29</td>\n      <td>Harder Better Faster Stronger</td>\n      <td>200</td>\n      <td>1538352676000</td>\n      <td>Mozilla/5.0 (Windows NT 6.1; WOW64; rv:31.0) G...</td>\n      <td>30</td>\n    </tr>\n  </tbody>\n</table>\n</div>",
       "datasetInfos": [],
       "metadata": {},
       "removedWidgets": [],
       "textData": null,
       "type": "htmlSandbox"
      }
     },
     "output_type": "display_data"
    }
   ],
   "source": [
    "#First five rows of the dataset\n",
    "\n",
    "df.toPandas().head()"
   ]
  },
  {
   "cell_type": "code",
   "execution_count": 0,
   "metadata": {
    "application/vnd.databricks.v1+cell": {
     "cellMetadata": {
      "byteLimit": 2048000,
      "rowLimit": 10000
     },
     "inputWidgets": {},
     "nuid": "707a718d-447b-4e37-8ed5-abe3c2c3da50",
     "showTitle": false,
     "title": ""
    }
   },
   "outputs": [
    {
     "output_type": "stream",
     "name": "stdout",
     "output_type": "stream",
     "text": [
      "root\n |-- artist: string (nullable = true)\n |-- auth: string (nullable = true)\n |-- firstName: string (nullable = true)\n |-- gender: string (nullable = true)\n |-- itemInSession: long (nullable = true)\n |-- lastName: string (nullable = true)\n |-- length: double (nullable = true)\n |-- level: string (nullable = true)\n |-- location: string (nullable = true)\n |-- method: string (nullable = true)\n |-- page: string (nullable = true)\n |-- registration: long (nullable = true)\n |-- sessionId: long (nullable = true)\n |-- song: string (nullable = true)\n |-- status: long (nullable = true)\n |-- ts: long (nullable = true)\n |-- userAgent: string (nullable = true)\n |-- userId: string (nullable = true)\n\n"
     ]
    }
   ],
   "source": [
    "# Printing the schema of the DataFrame to understand its structure and data types\n",
    "\n",
    "df.printSchema()"
   ]
  },
  {
   "cell_type": "code",
   "execution_count": 0,
   "metadata": {
    "application/vnd.databricks.v1+cell": {
     "cellMetadata": {
      "byteLimit": 2048000,
      "rowLimit": 10000
     },
     "inputWidgets": {},
     "nuid": "b72af549-8e5b-4cb4-9375-f4fd18eb8682",
     "showTitle": false,
     "title": ""
    }
   },
   "outputs": [
    {
     "output_type": "stream",
     "name": "stdout",
     "output_type": "stream",
     "text": [
      "Dataset Shape = ( 286500 , 18 )\n"
     ]
    }
   ],
   "source": [
    "#Printing the shape of the dataset (Rows,Column)\n",
    "\n",
    "print(\"Dataset Shape = (\", df.count(), \",\", len(df.columns), \")\")"
   ]
  },
  {
   "cell_type": "code",
   "execution_count": 0,
   "metadata": {
    "application/vnd.databricks.v1+cell": {
     "cellMetadata": {
      "byteLimit": 2048000,
      "rowLimit": 10000
     },
     "inputWidgets": {},
     "nuid": "75e7b536-1b4d-40b5-b834-cc3c2b2a1fb7",
     "showTitle": false,
     "title": ""
    }
   },
   "outputs": [
    {
     "output_type": "display_data",
     "data": {
      "text/html": [
       "<div>\n",
       "<style scoped>\n",
       "    .dataframe tbody tr th:only-of-type {\n",
       "        vertical-align: middle;\n",
       "    }\n",
       "\n",
       "    .dataframe tbody tr th {\n",
       "        vertical-align: top;\n",
       "    }\n",
       "\n",
       "    .dataframe thead th {\n",
       "        text-align: right;\n",
       "    }\n",
       "</style>\n",
       "<table border=\"1\" class=\"dataframe\">\n",
       "  <thead>\n",
       "    <tr style=\"text-align: right;\">\n",
       "      <th></th>\n",
       "      <th>summary</th>\n",
       "      <th>artist</th>\n",
       "      <th>auth</th>\n",
       "      <th>firstName</th>\n",
       "      <th>gender</th>\n",
       "      <th>itemInSession</th>\n",
       "      <th>lastName</th>\n",
       "      <th>length</th>\n",
       "      <th>level</th>\n",
       "      <th>location</th>\n",
       "      <th>method</th>\n",
       "      <th>page</th>\n",
       "      <th>registration</th>\n",
       "      <th>sessionId</th>\n",
       "      <th>song</th>\n",
       "      <th>status</th>\n",
       "      <th>ts</th>\n",
       "      <th>userAgent</th>\n",
       "      <th>userId</th>\n",
       "    </tr>\n",
       "  </thead>\n",
       "  <tbody>\n",
       "    <tr>\n",
       "      <th>0</th>\n",
       "      <td>count</td>\n",
       "      <td>228108</td>\n",
       "      <td>286500</td>\n",
       "      <td>278154</td>\n",
       "      <td>278154</td>\n",
       "      <td>286500</td>\n",
       "      <td>278154</td>\n",
       "      <td>228108</td>\n",
       "      <td>286500</td>\n",
       "      <td>278154</td>\n",
       "      <td>286500</td>\n",
       "      <td>286500</td>\n",
       "      <td>278154</td>\n",
       "      <td>286500</td>\n",
       "      <td>228108</td>\n",
       "      <td>286500</td>\n",
       "      <td>286500</td>\n",
       "      <td>278154</td>\n",
       "      <td>286500</td>\n",
       "    </tr>\n",
       "    <tr>\n",
       "      <th>1</th>\n",
       "      <td>mean</td>\n",
       "      <td>551.0852017937219</td>\n",
       "      <td>None</td>\n",
       "      <td>None</td>\n",
       "      <td>None</td>\n",
       "      <td>114.41421291448516</td>\n",
       "      <td>None</td>\n",
       "      <td>249.11718197783722</td>\n",
       "      <td>None</td>\n",
       "      <td>None</td>\n",
       "      <td>None</td>\n",
       "      <td>None</td>\n",
       "      <td>1.535358834085557E12</td>\n",
       "      <td>1041.526554973822</td>\n",
       "      <td>Infinity</td>\n",
       "      <td>210.05459685863875</td>\n",
       "      <td>1.5409568898104714E12</td>\n",
       "      <td>None</td>\n",
       "      <td>59682.02278593872</td>\n",
       "    </tr>\n",
       "    <tr>\n",
       "      <th>2</th>\n",
       "      <td>stddev</td>\n",
       "      <td>1217.7693079161374</td>\n",
       "      <td>None</td>\n",
       "      <td>None</td>\n",
       "      <td>None</td>\n",
       "      <td>129.76726201141085</td>\n",
       "      <td>None</td>\n",
       "      <td>99.23517921058324</td>\n",
       "      <td>None</td>\n",
       "      <td>None</td>\n",
       "      <td>None</td>\n",
       "      <td>None</td>\n",
       "      <td>3.291321616328068E9</td>\n",
       "      <td>726.7762634630834</td>\n",
       "      <td>NaN</td>\n",
       "      <td>31.50507848842202</td>\n",
       "      <td>1.5075439608187113E9</td>\n",
       "      <td>None</td>\n",
       "      <td>109091.94999910519</td>\n",
       "    </tr>\n",
       "    <tr>\n",
       "      <th>3</th>\n",
       "      <td>min</td>\n",
       "      <td>!!!</td>\n",
       "      <td>Cancelled</td>\n",
       "      <td>Adelaida</td>\n",
       "      <td>F</td>\n",
       "      <td>0</td>\n",
       "      <td>Adams</td>\n",
       "      <td>0.78322</td>\n",
       "      <td>free</td>\n",
       "      <td>Albany, OR</td>\n",
       "      <td>GET</td>\n",
       "      <td>About</td>\n",
       "      <td>1521380675000</td>\n",
       "      <td>1</td>\n",
       "      <td>ÃÂg ÃÂtti GrÃÂ¡a ÃÂsku</td>\n",
       "      <td>200</td>\n",
       "      <td>1538352117000</td>\n",
       "      <td>\"Mozilla/5.0 (Macintosh; Intel Mac OS X 10_10)...</td>\n",
       "      <td></td>\n",
       "    </tr>\n",
       "    <tr>\n",
       "      <th>4</th>\n",
       "      <td>max</td>\n",
       "      <td>ÃÂlafur Arnalds</td>\n",
       "      <td>Logged Out</td>\n",
       "      <td>Zyonna</td>\n",
       "      <td>M</td>\n",
       "      <td>1321</td>\n",
       "      <td>Wright</td>\n",
       "      <td>3024.66567</td>\n",
       "      <td>paid</td>\n",
       "      <td>Winston-Salem, NC</td>\n",
       "      <td>PUT</td>\n",
       "      <td>Upgrade</td>\n",
       "      <td>1543247354000</td>\n",
       "      <td>2474</td>\n",
       "      <td>ÃÂau hafa sloppiÃÂ° undan ÃÂ¾unga myrkursins</td>\n",
       "      <td>404</td>\n",
       "      <td>1543799476000</td>\n",
       "      <td>Mozilla/5.0 (compatible; MSIE 9.0; Windows NT ...</td>\n",
       "      <td>99</td>\n",
       "    </tr>\n",
       "  </tbody>\n",
       "</table>\n",
       "</div>"
      ]
     },
     "metadata": {
      "application/vnd.databricks.v1+output": {
       "addedWidgets": {},
       "arguments": {},
       "data": "<div>\n<style scoped>\n    .dataframe tbody tr th:only-of-type {\n        vertical-align: middle;\n    }\n\n    .dataframe tbody tr th {\n        vertical-align: top;\n    }\n\n    .dataframe thead th {\n        text-align: right;\n    }\n</style>\n<table border=\"1\" class=\"dataframe\">\n  <thead>\n    <tr style=\"text-align: right;\">\n      <th></th>\n      <th>summary</th>\n      <th>artist</th>\n      <th>auth</th>\n      <th>firstName</th>\n      <th>gender</th>\n      <th>itemInSession</th>\n      <th>lastName</th>\n      <th>length</th>\n      <th>level</th>\n      <th>location</th>\n      <th>method</th>\n      <th>page</th>\n      <th>registration</th>\n      <th>sessionId</th>\n      <th>song</th>\n      <th>status</th>\n      <th>ts</th>\n      <th>userAgent</th>\n      <th>userId</th>\n    </tr>\n  </thead>\n  <tbody>\n    <tr>\n      <th>0</th>\n      <td>count</td>\n      <td>228108</td>\n      <td>286500</td>\n      <td>278154</td>\n      <td>278154</td>\n      <td>286500</td>\n      <td>278154</td>\n      <td>228108</td>\n      <td>286500</td>\n      <td>278154</td>\n      <td>286500</td>\n      <td>286500</td>\n      <td>278154</td>\n      <td>286500</td>\n      <td>228108</td>\n      <td>286500</td>\n      <td>286500</td>\n      <td>278154</td>\n      <td>286500</td>\n    </tr>\n    <tr>\n      <th>1</th>\n      <td>mean</td>\n      <td>551.0852017937219</td>\n      <td>None</td>\n      <td>None</td>\n      <td>None</td>\n      <td>114.41421291448516</td>\n      <td>None</td>\n      <td>249.11718197783722</td>\n      <td>None</td>\n      <td>None</td>\n      <td>None</td>\n      <td>None</td>\n      <td>1.535358834085557E12</td>\n      <td>1041.526554973822</td>\n      <td>Infinity</td>\n      <td>210.05459685863875</td>\n      <td>1.5409568898104714E12</td>\n      <td>None</td>\n      <td>59682.02278593872</td>\n    </tr>\n    <tr>\n      <th>2</th>\n      <td>stddev</td>\n      <td>1217.7693079161374</td>\n      <td>None</td>\n      <td>None</td>\n      <td>None</td>\n      <td>129.76726201141085</td>\n      <td>None</td>\n      <td>99.23517921058324</td>\n      <td>None</td>\n      <td>None</td>\n      <td>None</td>\n      <td>None</td>\n      <td>3.291321616328068E9</td>\n      <td>726.7762634630834</td>\n      <td>NaN</td>\n      <td>31.50507848842202</td>\n      <td>1.5075439608187113E9</td>\n      <td>None</td>\n      <td>109091.94999910519</td>\n    </tr>\n    <tr>\n      <th>3</th>\n      <td>min</td>\n      <td>!!!</td>\n      <td>Cancelled</td>\n      <td>Adelaida</td>\n      <td>F</td>\n      <td>0</td>\n      <td>Adams</td>\n      <td>0.78322</td>\n      <td>free</td>\n      <td>Albany, OR</td>\n      <td>GET</td>\n      <td>About</td>\n      <td>1521380675000</td>\n      <td>1</td>\n      <td>ÃÂg ÃÂtti GrÃÂ¡a ÃÂsku</td>\n      <td>200</td>\n      <td>1538352117000</td>\n      <td>\"Mozilla/5.0 (Macintosh; Intel Mac OS X 10_10)...</td>\n      <td></td>\n    </tr>\n    <tr>\n      <th>4</th>\n      <td>max</td>\n      <td>ÃÂlafur Arnalds</td>\n      <td>Logged Out</td>\n      <td>Zyonna</td>\n      <td>M</td>\n      <td>1321</td>\n      <td>Wright</td>\n      <td>3024.66567</td>\n      <td>paid</td>\n      <td>Winston-Salem, NC</td>\n      <td>PUT</td>\n      <td>Upgrade</td>\n      <td>1543247354000</td>\n      <td>2474</td>\n      <td>ÃÂau hafa sloppiÃÂ° undan ÃÂ¾unga myrkursins</td>\n      <td>404</td>\n      <td>1543799476000</td>\n      <td>Mozilla/5.0 (compatible; MSIE 9.0; Windows NT ...</td>\n      <td>99</td>\n    </tr>\n  </tbody>\n</table>\n</div>",
       "datasetInfos": [],
       "metadata": {},
       "removedWidgets": [],
       "textData": null,
       "type": "htmlSandbox"
      }
     },
     "output_type": "display_data"
    }
   ],
   "source": [
    "#Statistical information of each column\n",
    "\n",
    "df.describe().toPandas()"
   ]
  },
  {
   "cell_type": "markdown",
   "metadata": {
    "application/vnd.databricks.v1+cell": {
     "cellMetadata": {
      "byteLimit": 2048000,
      "rowLimit": 10000
     },
     "inputWidgets": {},
     "nuid": "d327042a-dc97-4792-996e-5694671bc91d",
     "showTitle": false,
     "title": "##Pre-Processing"
    }
   },
   "source": [
    "## Pre-Processing"
   ]
  },
  {
   "cell_type": "code",
   "execution_count": 0,
   "metadata": {
    "application/vnd.databricks.v1+cell": {
     "cellMetadata": {
      "byteLimit": 2048000,
      "rowLimit": 10000
     },
     "inputWidgets": {},
     "nuid": "0f1b3fe6-a7b9-45bd-ab55-06cda99483d5",
     "showTitle": false,
     "title": ""
    }
   },
   "outputs": [
    {
     "output_type": "stream",
     "name": "stdout",
     "output_type": "stream",
     "text": [
      "+------+----+---------+------+-------------+--------+------+-----+--------+------+----+------------+---------+-----+------+---+---------+------+\n|artist|auth|firstName|gender|itemInSession|lastName|length|level|location|method|page|registration|sessionId| song|status| ts|userAgent|userId|\n+------+----+---------+------+-------------+--------+------+-----+--------+------+----+------------+---------+-----+------+---+---------+------+\n| 58392|   0|     8346|  8346|            0|    8346| 58392|    0|    8346|     0|   0|        8346|        0|58392|     0|  0|     8346|     0|\n+------+----+---------+------+-------------+--------+------+-----+--------+------+----+------------+---------+-----+------+---+---------+------+\n\n"
     ]
    }
   ],
   "source": [
    "# Getting the count of both null and missing values in the dataset\n",
    "\n",
    "df.select([count(when(isnan(c) | col(c).isNull(), c)).alias(c) for c in df.columns]).show()"
   ]
  },
  {
   "cell_type": "code",
   "execution_count": 0,
   "metadata": {
    "application/vnd.databricks.v1+cell": {
     "cellMetadata": {
      "byteLimit": 2048000,
      "rowLimit": 10000
     },
     "inputWidgets": {},
     "nuid": "bd944a99-1c55-408b-8f83-8b93aa75144c",
     "showTitle": false,
     "title": ""
    }
   },
   "outputs": [
    {
     "output_type": "stream",
     "name": "stdout",
     "output_type": "stream",
     "text": [
      "Total number of rows in the dataset: 286500.\n\nartist: 58392 missing values.         0 NaN's; 58392 Null's; 0 empty strings.\nfirstName: 8346 missing values.         0 NaN's; 8346 Null's; 0 empty strings.\ngender: 8346 missing values.         0 NaN's; 8346 Null's; 0 empty strings.\nlastName: 8346 missing values.         0 NaN's; 8346 Null's; 0 empty strings.\nlength: 58392 missing values.         0 NaN's; 58392 Null's; 0 empty strings.\nlocation: 8346 missing values.         0 NaN's; 8346 Null's; 0 empty strings.\nregistration: 8346 missing values.         0 NaN's; 8346 Null's; 0 empty strings.\nsong: 58392 missing values.         0 NaN's; 58392 Null's; 0 empty strings.\nuserAgent: 8346 missing values.         0 NaN's; 8346 Null's; 0 empty strings.\nuserId: 8346 missing values.         0 NaN's; 0 Null's; 8346 empty strings.\n"
     ]
    }
   ],
   "source": [
    "# Examining and printing the number of missing values in each column\n",
    "\n",
    "print(f\"Total number of rows in the dataset: {df.count()}.\\n\")\n",
    "\n",
    "for coln in df.columns:\n",
    "    missing_count = df.filter((isnan(df[coln])) | (df[coln].isNull()) | (df[coln] == \"\")).count()\n",
    "    \n",
    "    if missing_count > 0:\n",
    "        nan_count = df.filter(isnan(df[coln])).count()\n",
    "        null_count = df.filter(df[coln].isNull()).count()\n",
    "        empty_str = df.filter(df[coln] == \"\").count()\n",
    "        print(f\"{coln}: {missing_count} missing values. \\\n",
    "        {nan_count} NaN's; {null_count} Null's; {empty_str} empty strings.\")"
   ]
  },
  {
   "cell_type": "code",
   "execution_count": 0,
   "metadata": {
    "application/vnd.databricks.v1+cell": {
     "cellMetadata": {
      "byteLimit": 2048000,
      "rowLimit": 10000
     },
     "inputWidgets": {},
     "nuid": "4dcf7c15-ec34-4d66-81a5-3a29b35b49cd",
     "showTitle": false,
     "title": ""
    }
   },
   "outputs": [
    {
     "output_type": "stream",
     "name": "stdout",
     "output_type": "stream",
     "text": [
      "+------+\n|userId|\n+------+\n|      |\n|    10|\n|   100|\n|100001|\n|100002|\n|100003|\n|100004|\n|100005|\n|100006|\n|100007|\n+------+\nonly showing top 10 rows\n\n"
     ]
    }
   ],
   "source": [
    "#selecting the 'userId' column, droping duplicate values, order the unique values in ascending order by 'userId', and display the first 10 rows.\n",
    "\n",
    "df.select(['userId']).dropDuplicates().orderBy(df['userId']).show(10)"
   ]
  },
  {
   "cell_type": "markdown",
   "metadata": {
    "application/vnd.databricks.v1+cell": {
     "cellMetadata": {
      "byteLimit": 2048000,
      "rowLimit": 10000
     },
     "inputWidgets": {},
     "nuid": "102e1264-8c8f-4431-8d6d-054e67c6245a",
     "showTitle": false,
     "title": ""
    }
   },
   "source": [
    "From the above code we can find that the 'userID' column has entries with empty strings also. First we need to handle those empty string"
   ]
  },
  {
   "cell_type": "code",
   "execution_count": 0,
   "metadata": {
    "application/vnd.databricks.v1+cell": {
     "cellMetadata": {
      "byteLimit": 2048000,
      "rowLimit": 10000
     },
     "inputWidgets": {},
     "nuid": "a5eaecda-1e55-45da-931c-814b97e63f34",
     "showTitle": false,
     "title": ""
    }
   },
   "outputs": [],
   "source": [
    "# Creating a view to run SQL queries\n",
    "# A view is a virtual table representing the result of a SQL query or an abstraction over a DataFrame.\n",
    "\n",
    "df.createOrReplaceTempView(\"df_table\")"
   ]
  },
  {
   "cell_type": "code",
   "execution_count": 0,
   "metadata": {
    "application/vnd.databricks.v1+cell": {
     "cellMetadata": {
      "byteLimit": 2048000,
      "rowLimit": 10000
     },
     "inputWidgets": {},
     "nuid": "bf75bc83-8ca6-4334-8c83-d597b45e0623",
     "showTitle": false,
     "title": ""
    }
   },
   "outputs": [
    {
     "output_type": "stream",
     "name": "stdout",
     "output_type": "stream",
     "text": [
      "+-------------------+\n|               page|\n+-------------------+\n|               Home|\n|              About|\n|              Login|\n|               Help|\n|              Error|\n|Submit Registration|\n|           Register|\n+-------------------+\n\n"
     ]
    }
   ],
   "source": [
    "#Pages visited by the users whose userID is an empty string\n",
    "\n",
    "spark.sql(\n",
    "    '''\n",
    "    SELECT DISTINCT page\n",
    "    FROM df_table\n",
    "    WHERE userId == \"\"\n",
    "    '''\n",
    ").show()"
   ]
  },
  {
   "cell_type": "code",
   "execution_count": 0,
   "metadata": {
    "application/vnd.databricks.v1+cell": {
     "cellMetadata": {
      "byteLimit": 2048000,
      "rowLimit": 10000
     },
     "inputWidgets": {},
     "nuid": "084a3622-4838-4c20-8479-3d109aa91467",
     "showTitle": false,
     "title": ""
    }
   },
   "outputs": [
    {
     "output_type": "stream",
     "name": "stdout",
     "output_type": "stream",
     "text": [
      "+--------------------+\n|                page|\n+--------------------+\n|              Cancel|\n|    Submit Downgrade|\n|         Thumbs Down|\n|           Downgrade|\n|         Roll Advert|\n|              Logout|\n|       Save Settings|\n|Cancellation Conf...|\n|            Settings|\n|     Add to Playlist|\n|          Add Friend|\n|            NextSong|\n|           Thumbs Up|\n|             Upgrade|\n|      Submit Upgrade|\n+--------------------+\n\n"
     ]
    }
   ],
   "source": [
    "#Pages visited by the users whose userID is not an empty string\n",
    "\n",
    "spark.sql(\n",
    "    '''\n",
    "    SELECT DISTINCT page\n",
    "    FROM df_table\n",
    "    EXCEPT\n",
    "    SELECT DISTINCT page\n",
    "    FROM df_table\n",
    "    WHERE userId == \"\"\n",
    "    '''\n",
    ").show()"
   ]
  },
  {
   "cell_type": "markdown",
   "metadata": {
    "application/vnd.databricks.v1+cell": {
     "cellMetadata": {
      "byteLimit": 2048000,
      "rowLimit": 10000
     },
     "inputWidgets": {},
     "nuid": "e628d7b6-f11f-4047-976b-f2a0102c252f",
     "showTitle": false,
     "title": ""
    }
   },
   "source": [
    "From the above results we can come to a conclusion that the user's with empty string are those who are in the middle or prior to sign-in or registration. Since those users are not significant in churn prediction, we drop those rows with empty userID's."
   ]
  },
  {
   "cell_type": "code",
   "execution_count": 0,
   "metadata": {
    "application/vnd.databricks.v1+cell": {
     "cellMetadata": {
      "byteLimit": 2048000,
      "rowLimit": 10000
     },
     "inputWidgets": {},
     "nuid": "c4946617-b96f-4b53-97d6-c86a6f08b1c4",
     "showTitle": false,
     "title": ""
    }
   },
   "outputs": [],
   "source": [
    "# Dropping rows that have empty userId\n",
    "\n",
    "df = df.filter(df['userId'] != \"\")"
   ]
  },
  {
   "cell_type": "code",
   "execution_count": 0,
   "metadata": {
    "application/vnd.databricks.v1+cell": {
     "cellMetadata": {
      "byteLimit": 2048000,
      "rowLimit": 10000
     },
     "inputWidgets": {},
     "nuid": "2fcfaaae-d34f-4381-ad04-8f32be03fe50",
     "showTitle": false,
     "title": ""
    }
   },
   "outputs": [
    {
     "output_type": "stream",
     "name": "stdout",
     "output_type": "stream",
     "text": [
      "Number of missing values:\n    userId: 0 missing values.\n    sessionId: 0 missing values.\n    gender: 0 missing values.\n    registration: 0 missing values.\n    userAgent: 0 missing values.\n"
     ]
    }
   ],
   "source": [
    "# Checking the number of missing values in userId and sessionId after processing\n",
    "\n",
    "print(\"Number of missing values:\")\n",
    "for coln in ['userId', 'sessionId', 'gender', 'registration', 'userAgent']:\n",
    "    missing_count = df.filter((isnan(df[coln])) | (df[coln].isNull()) | (df[coln] == \"\")).count()\n",
    "    print(f\"    {coln}: {missing_count} missing values.\")"
   ]
  },
  {
   "cell_type": "markdown",
   "metadata": {
    "application/vnd.databricks.v1+cell": {
     "cellMetadata": {
      "byteLimit": 2048000,
      "rowLimit": 10000
     },
     "inputWidgets": {},
     "nuid": "fb6e269f-daaf-4331-ad58-9313788c9ce6",
     "showTitle": false,
     "title": ""
    }
   },
   "source": [
    "Missing values in artist, length and song columns"
   ]
  },
  {
   "cell_type": "code",
   "execution_count": 0,
   "metadata": {
    "application/vnd.databricks.v1+cell": {
     "cellMetadata": {
      "byteLimit": 2048000,
      "rowLimit": 10000
     },
     "inputWidgets": {},
     "nuid": "fdcd5fe4-4afd-4028-a45c-035ee0cbc558",
     "showTitle": false,
     "title": ""
    }
   },
   "outputs": [
    {
     "output_type": "stream",
     "name": "stdout",
     "output_type": "stream",
     "text": [
      "+--------------------+\n|                page|\n+--------------------+\n|              Cancel|\n|    Submit Downgrade|\n|         Thumbs Down|\n|                Home|\n|           Downgrade|\n|         Roll Advert|\n|              Logout|\n|       Save Settings|\n|Cancellation Conf...|\n|               About|\n|            Settings|\n|     Add to Playlist|\n|          Add Friend|\n|           Thumbs Up|\n|                Help|\n|             Upgrade|\n|               Error|\n|      Submit Upgrade|\n+--------------------+\n\n"
     ]
    }
   ],
   "source": [
    "#Pages visited by the users whose artist values are null.\n",
    "\n",
    "df.filter(df['artist'].isNull()).select(df['page']).dropDuplicates().show()"
   ]
  },
  {
   "cell_type": "code",
   "execution_count": 0,
   "metadata": {
    "application/vnd.databricks.v1+cell": {
     "cellMetadata": {
      "byteLimit": 2048000,
      "rowLimit": 10000
     },
     "inputWidgets": {},
     "nuid": "09ed09e2-2c8d-4ee1-8a43-6526b1b1e11b",
     "showTitle": false,
     "title": ""
    }
   },
   "outputs": [
    {
     "output_type": "stream",
     "name": "stdout",
     "output_type": "stream",
     "text": [
      "+--------+\n|    page|\n+--------+\n|NextSong|\n+--------+\n\n"
     ]
    }
   ],
   "source": [
    "#Pages visited by the users whose artist values are not null.\n",
    "\n",
    "df.filter(df['artist'].isNotNull()).select(df['page']).dropDuplicates().show()"
   ]
  },
  {
   "cell_type": "markdown",
   "metadata": {
    "application/vnd.databricks.v1+cell": {
     "cellMetadata": {
      "byteLimit": 2048000,
      "rowLimit": 10000
     },
     "inputWidgets": {},
     "nuid": "5bc5cef5-6a07-4cf0-afd0-edaa7fbbda33",
     "showTitle": false,
     "title": ""
    }
   },
   "source": [
    "Only page event \"NextSong\", i.e. playing a song, has corresponding artist information. This should apply for each of the artist, length, and song columns"
   ]
  },
  {
   "cell_type": "code",
   "execution_count": 0,
   "metadata": {
    "application/vnd.databricks.v1+cell": {
     "cellMetadata": {
      "byteLimit": 2048000,
      "rowLimit": 10000
     },
     "inputWidgets": {},
     "nuid": "eb66eef6-0962-4126-b864-ead81eebbb6c",
     "showTitle": false,
     "title": ""
    }
   },
   "outputs": [
    {
     "output_type": "stream",
     "name": "stdout",
     "output_type": "stream",
     "text": [
      "When page event is 'NextSong':\n    artist: 0 missing values.\n    length: 0 missing values.\n    song: 0 missing values.\n"
     ]
    }
   ],
   "source": [
    "# Checking wheather there is any missing values in the artist, length, song columns when page event is \"NextSong\"\n",
    "\n",
    "df_song = df.filter(df['page'] == \"NextSong\")\n",
    "print(\"When page event is 'NextSong':\")\n",
    "for coln in ['artist', 'length', 'song']:\n",
    "    missing_count = df_song.filter((isnan(df[coln])) | (df[coln].isNull()) | (df[coln] == \"\")).count()\n",
    "    print(f\"    {coln}: {missing_count} missing values.\")"
   ]
  },
  {
   "cell_type": "code",
   "execution_count": 0,
   "metadata": {
    "application/vnd.databricks.v1+cell": {
     "cellMetadata": {
      "byteLimit": 2048000,
      "rowLimit": 10000
     },
     "inputWidgets": {},
     "nuid": "45ed92e8-11c3-4e7e-9fb3-9a3ecd57e418",
     "showTitle": false,
     "title": ""
    }
   },
   "outputs": [
    {
     "output_type": "stream",
     "name": "stdout",
     "output_type": "stream",
     "text": [
      "Data Shape = ( 278154 , 18 )\n"
     ]
    }
   ],
   "source": [
    "#Shape of the dataset after handling missing values\n",
    "\n",
    "print(\"Data Shape = (\", df.count(), \",\", len(df.columns), \")\")"
   ]
  },
  {
   "cell_type": "code",
   "execution_count": 0,
   "metadata": {
    "application/vnd.databricks.v1+cell": {
     "cellMetadata": {
      "byteLimit": 2048000,
      "rowLimit": 10000
     },
     "inputWidgets": {},
     "nuid": "761357fd-5bf5-4b8f-8705-ba37de9b2ea3",
     "showTitle": false,
     "title": ""
    }
   },
   "outputs": [
    {
     "output_type": "stream",
     "name": "stdout",
     "output_type": "stream",
     "text": [
      "Possible values of 'level' column :\n['free', 'paid']\n"
     ]
    }
   ],
   "source": [
    "# Values in the level column\n",
    "\n",
    "coln = 'level'\n",
    "print(f\"Possible values of '{coln}' column :\")\n",
    "print([x[coln] for x in df.select(coln).dropDuplicates().collect()])"
   ]
  },
  {
   "cell_type": "code",
   "execution_count": 0,
   "metadata": {
    "application/vnd.databricks.v1+cell": {
     "cellMetadata": {
      "byteLimit": 2048000,
      "rowLimit": 10000
     },
     "inputWidgets": {},
     "nuid": "45f3f8de-2c50-4a52-bc91-ce177d0def09",
     "showTitle": false,
     "title": ""
    }
   },
   "outputs": [
    {
     "output_type": "stream",
     "name": "stdout",
     "output_type": "stream",
     "text": [
      "Count of paid users : 165 , Count of free users :  195\n"
     ]
    }
   ],
   "source": [
    "# Printing the count of free and Paid users\n",
    "\n",
    "paidUser = df.where(df.level == 'paid').select('userId') .toPandas()['userId']\n",
    "freeUser = df.where(df.level == 'free').select('userId') .toPandas()['userId']\n",
    "\n",
    "print('Count of paid users :',paidUser.nunique(),', Count of free users : ', freeUser.nunique())"
   ]
  },
  {
   "cell_type": "markdown",
   "metadata": {
    "application/vnd.databricks.v1+cell": {
     "cellMetadata": {
      "byteLimit": 2048000,
      "rowLimit": 10000
     },
     "inputWidgets": {},
     "nuid": "32054cde-6173-47a8-9f9b-e70be3e36c57",
     "showTitle": false,
     "title": ""
    }
   },
   "source": [
    "### Defining Churn: event(page) with \"Cancellation Confirmation\" for both paid and free users. Creating a binary column \"Churn\" as the target variable for our model, where 1 for customers who churned and 0 for customers who did not."
   ]
  },
  {
   "cell_type": "code",
   "execution_count": 0,
   "metadata": {
    "application/vnd.databricks.v1+cell": {
     "cellMetadata": {
      "byteLimit": 2048000,
      "rowLimit": 10000
     },
     "inputWidgets": {},
     "nuid": "c833703d-d82c-4621-8059-fa80d4e4d4f2",
     "showTitle": false,
     "title": ""
    }
   },
   "outputs": [],
   "source": [
    "#Creating our target column \"Churn\" with respect to page visit of \"Cancellation Confirmation\" \n",
    "\n",
    "flag_churn_event = udf(lambda x: 1 if x == \"Cancellation Confirmation\" else 0, IntegerType())\n",
    "df_clean = df.withColumn(\"Churn\", flag_churn_event(\"page\"))\n",
    "\n",
    "#Selecting the max value of churn for each user and making a column name label\n",
    "\n",
    "df_clean = df_clean.withColumn(\"label\", max('Churn').over(Window.partitionBy('UserId')))     "
   ]
  },
  {
   "cell_type": "code",
   "execution_count": 0,
   "metadata": {
    "application/vnd.databricks.v1+cell": {
     "cellMetadata": {
      "byteLimit": 2048000,
      "rowLimit": 10000
     },
     "inputWidgets": {},
     "nuid": "31815981-817d-4d48-9681-7908d13b9927",
     "showTitle": false,
     "title": ""
    }
   },
   "outputs": [
    {
     "output_type": "stream",
     "name": "stdout",
     "output_type": "stream",
     "text": [
      "root\n |-- artist: string (nullable = true)\n |-- auth: string (nullable = true)\n |-- firstName: string (nullable = true)\n |-- gender: string (nullable = true)\n |-- itemInSession: long (nullable = true)\n |-- lastName: string (nullable = true)\n |-- length: double (nullable = true)\n |-- level: string (nullable = true)\n |-- location: string (nullable = true)\n |-- method: string (nullable = true)\n |-- page: string (nullable = true)\n |-- registration: long (nullable = true)\n |-- sessionId: long (nullable = true)\n |-- song: string (nullable = true)\n |-- status: long (nullable = true)\n |-- ts: long (nullable = true)\n |-- userAgent: string (nullable = true)\n |-- userId: string (nullable = true)\n |-- Churn: integer (nullable = true)\n |-- label: integer (nullable = true)\n\n"
     ]
    }
   ],
   "source": [
    "df_clean.printSchema()"
   ]
  },
  {
   "cell_type": "markdown",
   "metadata": {
    "application/vnd.databricks.v1+cell": {
     "cellMetadata": {
      "byteLimit": 2048000,
      "rowLimit": 10000
     },
     "inputWidgets": {},
     "nuid": "fa1b9bf9-7634-43d7-90c1-4cd520c07e40",
     "showTitle": false,
     "title": ""
    }
   },
   "source": [
    "## EDA"
   ]
  },
  {
   "cell_type": "code",
   "execution_count": 0,
   "metadata": {
    "application/vnd.databricks.v1+cell": {
     "cellMetadata": {
      "byteLimit": 2048000,
      "rowLimit": 10000
     },
     "inputWidgets": {},
     "nuid": "34cdfedf-5e5c-4f1b-939e-93ac0d854b5e",
     "showTitle": false,
     "title": ""
    }
   },
   "outputs": [
    {
     "output_type": "display_data",
     "data": {
      "image/png": "[encoded data removed]"
     },
     "metadata": {
      "application/vnd.databricks.v1+output": {
       "addedWidgets": {},
       "arguments": {},
       "data": "data:image/png;base64,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\n",
       "datasetInfos": [],
       "metadata": {},
       "removedWidgets": [],
       "type": "image"
      }
     },
     "output_type": "display_data"
    }
   ],
   "source": [
    "# Plotting a bar plot to show gender distribution between stayed and churned users\n",
    "\n",
    "gender_pd = df_clean.drop_duplicates(['userId', 'gender']).groupby(['label', 'gender']).count().sort(\"label\").toPandas()\n",
    "\n",
    "plt.figure()\n",
    "plt.title('Gender distribution of stayed and churned users')\n",
    "p = sns.barplot(x = 'label', y = 'count',data = gender_pd, hue = 'gender')\n",
    "p.set_xlabel(\"Churn / Stay\", fontsize = 15)\n",
    "p.set_ylabel(\"Number of customer\", fontsize = 20)\n",
    "plt.show()"
   ]
  },
  {
   "cell_type": "markdown",
   "metadata": {
    "application/vnd.databricks.v1+cell": {
     "cellMetadata": {
      "byteLimit": 2048000,
      "rowLimit": 10000
     },
     "inputWidgets": {},
     "nuid": "bffc0b24-c946-484d-a8c0-7d8117df674a",
     "showTitle": false,
     "title": ""
    }
   },
   "source": [
    "## Feature Engineering"
   ]
  },
  {
   "cell_type": "code",
   "execution_count": 0,
   "metadata": {
    "application/vnd.databricks.v1+cell": {
     "cellMetadata": {
      "byteLimit": 2048000,
      "rowLimit": 10000
     },
     "inputWidgets": {},
     "nuid": "0afbe11f-bae3-44ee-bddb-ec6a5dac1d79",
     "showTitle": false,
     "title": ""
    }
   },
   "outputs": [
    {
     "output_type": "stream",
     "name": "stdout",
     "output_type": "stream",
     "text": [
      "+--------------------+---------+------+-------------+---------+-----+------+---------+-------------+---------+--------------------+------+-------------+--------------------+------+-----+-----+-----+\n|              artist|     auth|gender|itemInSession|   length|level|method|     page| registration|sessionId|                song|status|           ts|           userAgent|userId|Churn|label|state|\n+--------------------+---------+------+-------------+---------+-----+------+---------+-------------+---------+--------------------+------+-------------+--------------------+------+-----+-----+-----+\n|Sleeping With Sirens|Logged In|     F|            0|202.97098| free|   PUT| NextSong|1538016340000|       31|Captain Tyin Knot...|   200|1539003534000|\"Mozilla/5.0 (iPh...|100010|    0|    0|   CT|\n|Francesca Battist...|Logged In|     F|            1|196.54485| free|   PUT| NextSong|1538016340000|       31|Beautiful_ Beauti...|   200|1539003736000|\"Mozilla/5.0 (iPh...|100010|    0|    0|   CT|\n|              Brutha|Logged In|     F|            2|263.13098| free|   PUT| NextSong|1538016340000|       31|          She's Gone|   200|1539003932000|\"Mozilla/5.0 (iPh...|100010|    0|    0|   CT|\n|                null|Logged In|     F|            3|     null| free|   PUT|Thumbs Up|1538016340000|       31|                null|   307|1539003933000|\"Mozilla/5.0 (iPh...|100010|    0|    0|   CT|\n|         Josh Ritter|Logged In|     F|            4|316.23791| free|   PUT| NextSong|1538016340000|       31|      Folk Bloodbath|   200|1539004195000|\"Mozilla/5.0 (iPh...|100010|    0|    0|   CT|\n+--------------------+---------+------+-------------+---------+-----+------+---------+-------------+---------+--------------------+------+-------------+--------------------+------+-----+-----+-----+\nonly showing top 5 rows\n\n"
     ]
    }
   ],
   "source": [
    "# Extract the state name alone from the original address in location column, by splitting with respect to commas into an array and selecting the 2nd entry which is the state name, trimming any available white spaces in it and creating a new column named 'State'.\n",
    "\n",
    "df_clean = df_clean.withColumn('state', trim(split(col('location'),',').getItem(1)))\n",
    "\n",
    "# dropping unnecessary column: the original location column, first name and last name.\n",
    "\n",
    "df_clean = df_clean.drop('location','firstName','lastName')\n",
    "df_clean.show(n = 5)"
   ]
  },
  {
   "cell_type": "code",
   "execution_count": 0,
   "metadata": {
    "application/vnd.databricks.v1+cell": {
     "cellMetadata": {
      "byteLimit": 2048000,
      "rowLimit": 10000
     },
     "inputWidgets": {},
     "nuid": "c9b80ebe-0a71-41fc-af2e-11cd1d98e225",
     "showTitle": false,
     "title": ""
    }
   },
   "outputs": [
    {
     "output_type": "stream",
     "name": "stdout",
     "output_type": "stream",
     "text": [
      "+--------------------+---------+------+-------------+---------+-----+------+---------+-------------+---------+--------------------+------+-------------+--------------------+------+-----+-----+-----+-------------------+----------+-----+\n|              artist|     auth|gender|itemInSession|   length|level|method|     page| registration|sessionId|                song|status|           ts|           userAgent|userId|Churn|label|state|         epoch_time|      date|month|\n+--------------------+---------+------+-------------+---------+-----+------+---------+-------------+---------+--------------------+------+-------------+--------------------+------+-----+-----+-----+-------------------+----------+-----+\n|Sleeping With Sirens|Logged In|     F|            0|202.97098| free|   PUT| NextSong|1538016340000|       31|Captain Tyin Knot...|   200|1539003534000|\"Mozilla/5.0 (iPh...|100010|    0|    0|   CT|2018-10-08 12:58:54|2018-10-08|   10|\n|Francesca Battist...|Logged In|     F|            1|196.54485| free|   PUT| NextSong|1538016340000|       31|Beautiful_ Beauti...|   200|1539003736000|\"Mozilla/5.0 (iPh...|100010|    0|    0|   CT|2018-10-08 13:02:16|2018-10-08|   10|\n|              Brutha|Logged In|     F|            2|263.13098| free|   PUT| NextSong|1538016340000|       31|          She's Gone|   200|1539003932000|\"Mozilla/5.0 (iPh...|100010|    0|    0|   CT|2018-10-08 13:05:32|2018-10-08|   10|\n|                null|Logged In|     F|            3|     null| free|   PUT|Thumbs Up|1538016340000|       31|                null|   307|1539003933000|\"Mozilla/5.0 (iPh...|100010|    0|    0|   CT|2018-10-08 13:05:33|2018-10-08|   10|\n|         Josh Ritter|Logged In|     F|            4|316.23791| free|   PUT| NextSong|1538016340000|       31|      Folk Bloodbath|   200|1539004195000|\"Mozilla/5.0 (iPh...|100010|    0|    0|   CT|2018-10-08 13:09:55|2018-10-08|   10|\n+--------------------+---------+------+-------------+---------+-----+------+---------+-------------+---------+--------------------+------+-------------+--------------------+------+-----+-----+-----+-------------------+----------+-----+\nonly showing top 5 rows\n\n"
     ]
    }
   ],
   "source": [
    "# Creating month, date columns from timestamp column by converting milli-seconds to seconds and then converting with respect to UTC(Cordinated Universal Time)\n",
    "\n",
    "df_clean = df_clean.withColumn('epoch_time', from_unixtime(col('ts').cast(LongType())/1000).cast(TimestampType())) # convert timestamp to epoch time\n",
    "df_clean = df_clean.withColumn('date', from_unixtime(col('ts')/1000).cast(DateType()))\n",
    "df_clean = df_clean.withColumn('month', month(col('epoch_time')))\n",
    "df_clean.show(5)"
   ]
  },
  {
   "cell_type": "code",
   "execution_count": 0,
   "metadata": {
    "application/vnd.databricks.v1+cell": {
     "cellMetadata": {
      "byteLimit": 2048000,
      "rowLimit": 10000
     },
     "inputWidgets": {},
     "nuid": "574e7e4d-7a22-47e5-bb20-29afae9dcacf",
     "showTitle": false,
     "title": ""
    }
   },
   "outputs": [
    {
     "output_type": "stream",
     "name": "stdout",
     "output_type": "stream",
     "text": [
      "+------+---------+------+-------------+------+-----+------+---------+-------------+---------+----+------+-------------+--------------------+------+-----+-----+--------+-------------------+----------+-----+\n|artist|     auth|gender|itemInSession|length|level|method|     page| registration|sessionId|song|status|           ts|           userAgent|userId|Churn|label|   state|         epoch_time|      date|month|\n+------+---------+------+-------------+------+-----+------+---------+-------------+---------+----+------+-------------+--------------------+------+-----+-----+--------+-------------------+----------+-----+\n|  null|Logged In|     M|           90|  null| paid|   GET|Downgrade|1535389443000|       98|null|   200|1539724886000|\"Mozilla/5.0 (Win...|100014|    0|    1|NY-NJ-PA|2018-10-16 21:21:26|2018-10-16|   10|\n|  null|Logged In|     M|           24|  null| paid|   GET|Downgrade|1535389443000|      185|null|   200|1542730888000|\"Mozilla/5.0 (Win...|100014|    0|    1|NY-NJ-PA|2018-11-20 16:21:28|2018-11-20|   11|\n|  null|Logged In|     M|           71|  null| paid|   GET|Downgrade|1535389443000|      185|null|   200|1542740641000|\"Mozilla/5.0 (Win...|100014|    0|    1|NY-NJ-PA|2018-11-20 19:04:01|2018-11-20|   11|\n+------+---------+------+-------------+------+-----+------+---------+-------------+---------+----+------+-------------+--------------------+------+-----+-----+--------+-------------------+----------+-----+\nonly showing top 3 rows\n\n"
     ]
    }
   ],
   "source": [
    "# finding out users who downgraded their service\n",
    "\n",
    "df_clean.filter(\"page = 'Downgrade'\").show(3)"
   ]
  },
  {
   "cell_type": "code",
   "execution_count": 0,
   "metadata": {
    "application/vnd.databricks.v1+cell": {
     "cellMetadata": {
      "byteLimit": 2048000,
      "rowLimit": 10000
     },
     "inputWidgets": {},
     "nuid": "5975b5c2-9fc5-4c1d-8ef9-329156be930d",
     "showTitle": false,
     "title": ""
    }
   },
   "outputs": [],
   "source": [
    "# labeling page visit of downgrade event with 1 for downgraded and 0 for not\n",
    "\n",
    "flag_downgrade_event = udf(lambda x: 1 if x == \"Downgrade\" else 0, IntegerType())\n",
    "df_clean = df_clean.withColumn(\"Downgrade\", flag_downgrade_event(\"page\"))\n",
    "\n",
    "#Selecting the maximum value of  downgrade for each user and mapping into downgraded column\n",
    "\n",
    "df_clean = df_clean.withColumn(\"downgraded\", max('Downgrade').over(Window.partitionBy('UserId')))"
   ]
  },
  {
   "cell_type": "code",
   "execution_count": 0,
   "metadata": {
    "application/vnd.databricks.v1+cell": {
     "cellMetadata": {
      "byteLimit": 2048000,
      "rowLimit": 10000
     },
     "inputWidgets": {},
     "nuid": "bb79dd0d-446f-4195-92dc-77a8e6b564e6",
     "showTitle": false,
     "title": ""
    }
   },
   "outputs": [
    {
     "output_type": "stream",
     "name": "stdout",
     "output_type": "stream",
     "text": [
      "+--------------------+---------+------+-------------+---------+-----+------+--------+-------------+---------+--------------------+------+-------------+--------------------+------+-----+-----+-------------------+----------+-----+----------+\n|              artist|     auth|gender|itemInSession|   length|level|method|    page| registration|sessionId|                song|status|           ts|           userAgent|userId|label|state|         epoch_time|      date|month|downgraded|\n+--------------------+---------+------+-------------+---------+-----+------+--------+-------------+---------+--------------------+------+-------------+--------------------+------+-----+-----+-------------------+----------+-----+----------+\n|Sleeping With Sirens|Logged In|     F|            0|202.97098| free|   PUT|NextSong|1538016340000|       31|Captain Tyin Knot...|   200|1539003534000|\"Mozilla/5.0 (iPh...|100010|    0|   CT|2018-10-08 12:58:54|2018-10-08|   10|         0|\n|Francesca Battist...|Logged In|     F|            1|196.54485| free|   PUT|NextSong|1538016340000|       31|Beautiful_ Beauti...|   200|1539003736000|\"Mozilla/5.0 (iPh...|100010|    0|   CT|2018-10-08 13:02:16|2018-10-08|   10|         0|\n|              Brutha|Logged In|     F|            2|263.13098| free|   PUT|NextSong|1538016340000|       31|          She's Gone|   200|1539003932000|\"Mozilla/5.0 (iPh...|100010|    0|   CT|2018-10-08 13:05:32|2018-10-08|   10|         0|\n+--------------------+---------+------+-------------+---------+-----+------+--------+-------------+---------+--------------------+------+-------------+--------------------+------+-----+-----+-------------------+----------+-----+----------+\nonly showing top 3 rows\n\n"
     ]
    }
   ],
   "source": [
    "# Deleting the columns 'Downgrade' and 'Churn' after neccessary processing\n",
    "\n",
    "df_clean = df_clean.drop('Downgrade','Churn')\n",
    "df_clean.show(3)"
   ]
  },
  {
   "cell_type": "code",
   "execution_count": 0,
   "metadata": {
    "application/vnd.databricks.v1+cell": {
     "cellMetadata": {
      "byteLimit": 2048000,
      "rowLimit": 10000
     },
     "inputWidgets": {},
     "nuid": "9e96a97f-7713-45d6-b375-7acc6a7192de",
     "showTitle": false,
     "title": ""
    }
   },
   "outputs": [
    {
     "output_type": "stream",
     "name": "stdout",
     "output_type": "stream",
     "text": [
      "+------+--------------------+---------+------+-------------+---------+-----+------+--------+---------+--------------------+------+-------------+--------------------+-----+-----+-------------------+----------+-----+----------+---------------+\n|userId|              artist|     auth|gender|itemInSession|   length|level|method|    page|sessionId|                song|status|           ts|           userAgent|label|state|         epoch_time|      date|month|downgraded|registered_days|\n+------+--------------------+---------+------+-------------+---------+-----+------+--------+---------+--------------------+------+-------------+--------------------+-----+-----+-------------------+----------+-----+----------+---------------+\n|100010|Sleeping With Sirens|Logged In|     F|            0|202.97098| free|   PUT|NextSong|       31|Captain Tyin Knot...|   200|1539003534000|\"Mozilla/5.0 (iPh...|    0|   CT|2018-10-08 12:58:54|2018-10-08|   10|         0|             55|\n|100010|Francesca Battist...|Logged In|     F|            1|196.54485| free|   PUT|NextSong|       31|Beautiful_ Beauti...|   200|1539003736000|\"Mozilla/5.0 (iPh...|    0|   CT|2018-10-08 13:02:16|2018-10-08|   10|         0|             55|\n+------+--------------------+---------+------+-------------+---------+-----+------+--------+---------+--------------------+------+-------------+--------------------+-----+-----+-------------------+----------+-----+----------+---------------+\nonly showing top 2 rows\n\n"
     ]
    }
   ],
   "source": [
    "# Finding and grouping by the last interaction of each user using the maximum value of timestamp and converting it into a dataframe\n",
    "\n",
    "cancellation_df = df_clean.groupBy('userId').agg(max('ts').alias('lastinteraction'))\n",
    "\n",
    "# Combining the converted dataframe with the original dataframe and creating a column named 'registration' with the total number of days a user continued their subscription by substracting the last interacted time stamp with the regitration timestamp and dividing by 86400000 to convert milli-seconds to days.\n",
    "\n",
    "df_clean = cancellation_df.join(df_clean, on='userId').withColumn('registered_days', ((col('lastinteraction')-col('registration'))/86400000).cast(IntegerType()))\n",
    "\n",
    "# Dropping 'lastinteraction' and 'registraton' columns after neccessary processing\n",
    "\n",
    "df_clean = df_clean.drop('lastinteraction','registration')\n",
    "df_clean.show(2)"
   ]
  },
  {
   "cell_type": "code",
   "execution_count": 0,
   "metadata": {
    "application/vnd.databricks.v1+cell": {
     "cellMetadata": {
      "byteLimit": 2048000,
      "rowLimit": 10000
     },
     "inputWidgets": {},
     "nuid": "63851796-55c5-433e-8714-474ea3e711d3",
     "showTitle": false,
     "title": ""
    }
   },
   "outputs": [
    {
     "output_type": "stream",
     "name": "stdout",
     "output_type": "stream",
     "text": [
      "+------+--------------------+---------+------+-------------+---------+------+--------+---------+--------------------+------+-------------+--------------------+-----+-----+-------------------+----------+-----+----------+---------------+--------------+\n|userId|              artist|     auth|gender|itemInSession|   length|method|    page|sessionId|                song|status|           ts|           userAgent|label|state|         epoch_time|      date|month|downgraded|registered_days|level_preChurn|\n+------+--------------------+---------+------+-------------+---------+------+--------+---------+--------------------+------+-------------+--------------------+-----+-----+-------------------+----------+-----+----------+---------------+--------------+\n|100010|Sleeping With Sirens|Logged In|     F|            0|202.97098|   PUT|NextSong|       31|Captain Tyin Knot...|   200|1539003534000|\"Mozilla/5.0 (iPh...|    0|   CT|2018-10-08 12:58:54|2018-10-08|   10|         0|             55|          free|\n|100010|Francesca Battist...|Logged In|     F|            1|196.54485|   PUT|NextSong|       31|Beautiful_ Beauti...|   200|1539003736000|\"Mozilla/5.0 (iPh...|    0|   CT|2018-10-08 13:02:16|2018-10-08|   10|         0|             55|          free|\n+------+--------------------+---------+------+-------------+---------+------+--------+---------+--------------------+------+-------------+--------------------+-----+-----+-------------------+----------+-----+----------+---------------+--------------+\nonly showing top 2 rows\n\n"
     ]
    }
   ],
   "source": [
    "# Finding and grouping by the level(free or paid) of each user at the time of last interacton by ordering the timestamp of each user in decending order and converting it into a dataframe\n",
    "\n",
    "level_df = df_clean.orderBy('ts', ascending=False).groupBy('userId').agg(first('level').alias('level_preChurn'))   \n",
    "\n",
    "# Dropping the original level column and joining the newly created 'level_preChurn' column to our dataframe\n",
    "\n",
    "df_clean = df_clean.drop('level')\n",
    "df_clean = df_clean.join(level_df, on='userId')\n",
    "df_clean.show(2)"
   ]
  },
  {
   "cell_type": "code",
   "execution_count": 0,
   "metadata": {
    "application/vnd.databricks.v1+cell": {
     "cellMetadata": {
      "byteLimit": 2048000,
      "rowLimit": 10000
     },
     "inputWidgets": {},
     "nuid": "743eb150-1b72-4214-9183-94bf8bbc831e",
     "showTitle": false,
     "title": ""
    }
   },
   "outputs": [
    {
     "output_type": "stream",
     "name": "stdout",
     "output_type": "stream",
     "text": [
      "+------+--------------------+---------+------+-------------+---------+------+--------+---------+------+-------------+--------------------+-----+-----+-------------------+----------+-----+----------+---------------+--------------+------------------+\n|userId|              artist|     auth|gender|itemInSession|   length|method|    page|sessionId|status|           ts|           userAgent|label|state|         epoch_time|      date|month|downgraded|registered_days|level_preChurn|    avg_daily_song|\n+------+--------------------+---------+------+-------------+---------+------+--------+---------+------+-------------+--------------------+-----+-----+-------------------+----------+-----+----------+---------------+--------------+------------------+\n|100010|Sleeping With Sirens|Logged In|     F|            0|202.97098|   PUT|NextSong|       31|   200|1539003534000|\"Mozilla/5.0 (iPh...|    0|   CT|2018-10-08 12:58:54|2018-10-08|   10|         0|             55|          free|39.142857142857146|\n|100010|Francesca Battist...|Logged In|     F|            1|196.54485|   PUT|NextSong|       31|   200|1539003736000|\"Mozilla/5.0 (iPh...|    0|   CT|2018-10-08 13:02:16|2018-10-08|   10|         0|             55|          free|39.142857142857146|\n+------+--------------------+---------+------+-------------+---------+------+--------+---------+------+-------------+--------------------+-----+-----+-------------------+----------+-----+----------+---------------+--------------+------------------+\nonly showing top 2 rows\n\n"
     ]
    }
   ],
   "source": [
    "# Finding the number of songs played by a user in a day and converting it into a dataframe. And then finding the average of songs played by a user.\n",
    "\n",
    "temp_daily_song = df_clean.groupBy('userId','date').agg(countDistinct('song').alias('songs')).sort('userId')\n",
    "daily_song = temp_daily_song.groupBy('userId').avg('songs').withColumnRenamed('avg(songs)', 'avg_daily_song')\n",
    "\n",
    "# Combining the 'average_daily_song' column with the original dataframe and dropping the original 'song' column\n",
    "\n",
    "df_clean = df_clean.join(daily_song, on='userId')\n",
    "df_clean = df_clean.drop('song')\n",
    "df_clean.show(2)"
   ]
  },
  {
   "cell_type": "code",
   "execution_count": 0,
   "metadata": {
    "application/vnd.databricks.v1+cell": {
     "cellMetadata": {
      "byteLimit": 2048000,
      "rowLimit": 10000
     },
     "inputWidgets": {},
     "nuid": "f23f4804-b326-4138-affd-9a8e9d353a5e",
     "showTitle": false,
     "title": ""
    }
   },
   "outputs": [
    {
     "output_type": "stream",
     "name": "stdout",
     "output_type": "stream",
     "text": [
      "+------+--------------------+---------+------+-------------+---------+------+--------+------+-------------+--------------------+-----+-----+-------------------+----------+-----+----------+---------------+--------------+------------------+------------------+\n|userId|              artist|     auth|gender|itemInSession|   length|method|    page|status|           ts|           userAgent|label|state|         epoch_time|      date|month|downgraded|registered_days|level_preChurn|    avg_daily_song|       avg_session|\n+------+--------------------+---------+------+-------------+---------+------+--------+------+-------------+--------------------+-----+-----+-------------------+----------+-----+----------+---------------+--------------+------------------+------------------+\n|100010|Sleeping With Sirens|Logged In|     F|            0|202.97098|   PUT|NextSong|   200|1539003534000|\"Mozilla/5.0 (iPh...|    0|   CT|2018-10-08 12:58:54|2018-10-08|   10|         0|             55|          free|39.142857142857146|0.1072800925925926|\n|100010|Francesca Battist...|Logged In|     F|            1|196.54485|   PUT|NextSong|   200|1539003736000|\"Mozilla/5.0 (iPh...|    0|   CT|2018-10-08 13:02:16|2018-10-08|   10|         0|             55|          free|39.142857142857146|0.1072800925925926|\n+------+--------------------+---------+------+-------------+---------+------+--------+------+-------------+--------------------+-----+-----+-------------------+----------+-----+----------+---------------+--------------+------------------+------------------+\nonly showing top 2 rows\n\n"
     ]
    }
   ],
   "source": [
    "# Fnding the average time spend by a user in the application with respect to sessionID and creating a column named 'avg_session' to the original dataframe\n",
    "\n",
    "session_duration = df_clean.groupBy('userId','sessionId').agg(((max('ts')-min('ts'))/86400000).alias('activesession'))\n",
    "session_duration_df = session_duration.groupBy('userId').avg('activesession').withColumnRenamed('avg(activesession)', 'avg_session')\n",
    "df_clean = df_clean.join(session_duration_df, on='userId')\n",
    "\n",
    "#Dropping the original 'sessionID' column from the dataframe\n",
    "\n",
    "df_clean = df_clean.drop('sessionId')\n",
    "df_clean.show(2)"
   ]
  },
  {
   "cell_type": "code",
   "execution_count": 0,
   "metadata": {
    "application/vnd.databricks.v1+cell": {
     "cellMetadata": {
      "byteLimit": 2048000,
      "rowLimit": 10000
     },
     "inputWidgets": {},
     "nuid": "0bbf91c1-2f81-4acb-af2d-b53985922cad",
     "showTitle": false,
     "title": ""
    }
   },
   "outputs": [
    {
     "output_type": "stream",
     "name": "stdout",
     "output_type": "stream",
     "text": [
      "root\n |-- userId: string (nullable = true)\n |-- artist: string (nullable = true)\n |-- auth: string (nullable = true)\n |-- gender: string (nullable = true)\n |-- itemInSession: long (nullable = true)\n |-- length: double (nullable = true)\n |-- method: string (nullable = true)\n |-- page: string (nullable = true)\n |-- status: long (nullable = true)\n |-- ts: long (nullable = true)\n |-- userAgent: string (nullable = true)\n |-- label: integer (nullable = true)\n |-- state: string (nullable = true)\n |-- epoch_time: timestamp (nullable = true)\n |-- date: date (nullable = true)\n |-- month: integer (nullable = true)\n |-- downgraded: integer (nullable = true)\n |-- registered_days: integer (nullable = true)\n |-- level_preChurn: string (nullable = true)\n |-- avg_daily_song: double (nullable = true)\n |-- avg_session: double (nullable = true)\n\n"
     ]
    }
   ],
   "source": [
    "df_clean.printSchema()"
   ]
  },
  {
   "cell_type": "code",
   "execution_count": 0,
   "metadata": {
    "application/vnd.databricks.v1+cell": {
     "cellMetadata": {
      "byteLimit": 2048000,
      "rowLimit": 10000
     },
     "inputWidgets": {},
     "nuid": "afc31c3f-3850-4dfb-9d68-a3d8054295c8",
     "showTitle": false,
     "title": ""
    }
   },
   "outputs": [
    {
     "output_type": "stream",
     "name": "stdout",
     "output_type": "stream",
     "text": [
      "+------+-----+----------+------+--------------+--------+---------------+-------------------+------------------+\n|userId|label|downgraded|gender|level_preChurn|   state|registered_days|        avg_session|    avg_daily_song|\n+------+-----+----------+------+--------------+--------+---------------+-------------------+------------------+\n|100010|    0|         0|     F|          free|      CT|             55| 0.1072800925925926|39.142857142857146|\n|100014|    1|         1|     M|          paid|NY-NJ-PA|             85|0.12834297839506173|42.666666666666664|\n|100021|    1|         0|     M|          free|      TX|             64|0.14946296296296296|              45.8|\n|   101|    1|         1|     M|          paid|      CO|             53|  0.567763888888889|135.76923076923077|\n|    11|    0|         1|     F|          paid|   RI-MA|            124|0.11206741898148148|           40.0625|\n+------+-----+----------+------+--------------+--------+---------------+-------------------+------------------+\nonly showing top 5 rows\n\n"
     ]
    }
   ],
   "source": [
    "# Selecting the neccessary columns for building our model\n",
    "\n",
    "df_model = df_clean.select(['userId','label','downgraded','gender','level_preChurn','state','registered_days','avg_session','avg_daily_song']).dropDuplicates(['userId'])\n",
    "df_model.show(n=5)"
   ]
  },
  {
   "cell_type": "markdown",
   "metadata": {
    "application/vnd.databricks.v1+cell": {
     "cellMetadata": {
      "byteLimit": 2048000,
      "rowLimit": 10000
     },
     "inputWidgets": {},
     "nuid": "cc56b47e-19bb-4167-a797-6237c31ee8b6",
     "showTitle": false,
     "title": ""
    }
   },
   "source": [
    "## Data Transformation"
   ]
  },
  {
   "cell_type": "code",
   "execution_count": 0,
   "metadata": {
    "application/vnd.databricks.v1+cell": {
     "cellMetadata": {
      "byteLimit": 2048000,
      "rowLimit": 10000
     },
     "inputWidgets": {},
     "nuid": "52cdff25-4e08-4fbc-9df9-c5c3d49e3ee2",
     "showTitle": false,
     "title": ""
    }
   },
   "outputs": [
    {
     "output_type": "stream",
     "name": "stdout",
     "output_type": "stream",
     "text": [
      "+-----+----------+---------------+------------------+------------------+------------+--------------------+-----------+\n|label|downgraded|registered_days|       avg_session|    avg_daily_song|gender_index|level_preChurn_index|state_index|\n+-----+----------+---------------+------------------+------------------+------------+--------------------+-----------+\n|    0|         0|             55|0.1072800925925926|39.142857142857146|         1.0|                 1.0|        5.0|\n+-----+----------+---------------+------------------+------------------+------------+--------------------+-----------+\nonly showing top 1 row\n\n"
     ]
    }
   ],
   "source": [
    "# Creating a list of StringIndexer instances for the specified columns ('gender', 'level_preChurn', 'state'). Each StringIndexer is fitted on the original DataFrame df_model, mapping string values to numerical values and creating a new column with the original column name appended with \"_index\".\n",
    "\n",
    "indexers = [StringIndexer(inputCol=column, outputCol=column+\"_index\").fit(df_model) for column in ['gender','level_preChurn','state'] ]\n",
    "pipeline = Pipeline(stages=indexers)\n",
    "df_r = pipeline.fit(df_model).transform(df_model)\n",
    "\n",
    "#Dropping those original columns with string entries\n",
    "\n",
    "df_model = df_r.drop('gender','level_preChurn','state','userId')\n",
    "df_model.show(1)"
   ]
  },
  {
   "cell_type": "code",
   "execution_count": 0,
   "metadata": {
    "application/vnd.databricks.v1+cell": {
     "cellMetadata": {
      "byteLimit": 2048000,
      "rowLimit": 10000
     },
     "inputWidgets": {},
     "nuid": "eb2e2da7-a0dd-4f3d-99ee-f2716193b38c",
     "showTitle": false,
     "title": ""
    }
   },
   "outputs": [
    {
     "output_type": "stream",
     "name": "stdout",
     "output_type": "stream",
     "text": [
      "Out[37]: ['downgraded',\n 'registered_days',\n 'avg_session',\n 'avg_daily_song',\n 'gender_index',\n 'level_preChurn_index',\n 'state_index']"
     ]
    }
   ],
   "source": [
    "# Selecting the feature columns for our model\n",
    "\n",
    "feature_columns = [col for col in df_model.columns if col!='label']\n",
    "feature_columns"
   ]
  },
  {
   "cell_type": "code",
   "execution_count": 0,
   "metadata": {
    "application/vnd.databricks.v1+cell": {
     "cellMetadata": {
      "byteLimit": 2048000,
      "rowLimit": 10000
     },
     "inputWidgets": {},
     "nuid": "1aae21ba-6873-4f1a-8dc2-e243c31fa799",
     "showTitle": false,
     "title": ""
    }
   },
   "outputs": [],
   "source": [
    "# Combining the the list of features into a vector and transforming it to the dataset except the target column\n",
    "\n",
    "assembler = VectorAssembler(\n",
    "    inputCols=feature_columns,\n",
    "    outputCol=\"feature\")\n",
    "df_assembled = assembler.transform(df_model.drop(\"label\"))\n",
    "\n",
    "# Combining the assembled vector and the target column\n",
    "\n",
    "combined_df = df_assembled.select(\"feature\").join(\n",
    "    df_model.select(\"label\"))#, df_assembled.index == df_model.index)"
   ]
  },
  {
   "cell_type": "code",
   "execution_count": 0,
   "metadata": {
    "application/vnd.databricks.v1+cell": {
     "cellMetadata": {
      "byteLimit": 2048000,
      "rowLimit": 10000
     },
     "inputWidgets": {},
     "nuid": "c3a74cb3-9002-405a-b060-8ff0186e0202",
     "showTitle": false,
     "title": ""
    }
   },
   "outputs": [],
   "source": [
    "# Using MinMaxScaler to normalize the features within a range of (0,1) and fitting it to our dataframe\n",
    "\n",
    "scaler = MinMaxScaler(inputCol=\"feature\", outputCol=\"scaled_features\")\n",
    "scaler_model = scaler.fit(combined_df)\n",
    "df_new = scaler_model.transform(combined_df)"
   ]
  },
  {
   "cell_type": "code",
   "execution_count": 0,
   "metadata": {
    "application/vnd.databricks.v1+cell": {
     "cellMetadata": {
      "byteLimit": 2048000,
      "rowLimit": 10000
     },
     "inputWidgets": {},
     "nuid": "2e851116-94eb-48c1-8f84-08ff35abc1db",
     "showTitle": false,
     "title": ""
    }
   },
   "outputs": [],
   "source": [
    "# Selecting only scaled feature column and target column for further analysis.\n",
    "\n",
    "trainable_df = df_new.select(\"scaled_features\",'label')"
   ]
  },
  {
   "cell_type": "code",
   "execution_count": 0,
   "metadata": {
    "application/vnd.databricks.v1+cell": {
     "cellMetadata": {
      "byteLimit": 2048000,
      "rowLimit": 10000
     },
     "inputWidgets": {},
     "nuid": "afc01789-d715-4fca-9805-6876611af85d",
     "showTitle": false,
     "title": ""
    }
   },
   "outputs": [
    {
     "output_type": "stream",
     "name": "stdout",
     "output_type": "stream",
     "text": [
      "+-----+-----+\n|label|count|\n+-----+-----+\n|    1|   52|\n|    0|  173|\n+-----+-----+\n\n"
     ]
    }
   ],
   "source": [
    "m=df_model.groupBy('label').count().orderBy('count').show()"
   ]
  },
  {
   "cell_type": "markdown",
   "metadata": {
    "application/vnd.databricks.v1+cell": {
     "cellMetadata": {
      "byteLimit": 2048000,
      "rowLimit": 10000
     },
     "inputWidgets": {},
     "nuid": "30c77478-d0c4-4e77-9558-f06bf224fb5a",
     "showTitle": false,
     "title": ""
    }
   },
   "source": [
    "# Modeling"
   ]
  },
  {
   "cell_type": "code",
   "execution_count": 0,
   "metadata": {
    "application/vnd.databricks.v1+cell": {
     "cellMetadata": {
      "byteLimit": 2048000,
      "rowLimit": 10000
     },
     "inputWidgets": {},
     "nuid": "dddaf31d-03d8-4f20-93bd-fe19106ad2b5",
     "showTitle": false,
     "title": ""
    }
   },
   "outputs": [],
   "source": [
    "#splitting of train and test data\n",
    "\n",
    "train_data,test_data = trainable_df.randomSplit([0.6,0.4])"
   ]
  },
  {
   "cell_type": "markdown",
   "metadata": {
    "application/vnd.databricks.v1+cell": {
     "cellMetadata": {
      "byteLimit": 2048000,
      "rowLimit": 10000
     },
     "inputWidgets": {},
     "nuid": "762554ec-23ed-4f1b-ac9c-3a340122cc71",
     "showTitle": false,
     "title": ""
    }
   },
   "source": [
    "## Model 1"
   ]
  },
  {
   "cell_type": "code",
   "execution_count": 0,
   "metadata": {
    "application/vnd.databricks.v1+cell": {
     "cellMetadata": {
      "byteLimit": 2048000,
      "rowLimit": 10000
     },
     "inputWidgets": {},
     "nuid": "2310c01d-a36d-48d4-aae0-a10e9395ad43",
     "showTitle": false,
     "title": ""
    }
   },
   "outputs": [],
   "source": [
    "# Instantiating the RandomForestClassifier model\n",
    "\n",
    "lr = RandomForestClassifier(featuresCol=\"scaled_features\", labelCol=\"label\",maxBins=64)\n",
    "\n",
    "# Creating a Pipeline so that the transformation can be applied in a streamlined and organized approach\n",
    "\n",
    "pipeline1 = Pipeline(stages=[lr])"
   ]
  },
  {
   "cell_type": "code",
   "execution_count": 0,
   "metadata": {
    "application/vnd.databricks.v1+cell": {
     "cellMetadata": {
      "byteLimit": 2048000,
      "rowLimit": 10000
     },
     "inputWidgets": {},
     "nuid": "59ab679e-fade-4e9c-bed8-0bb06313105b",
     "showTitle": false,
     "title": ""
    }
   },
   "outputs": [],
   "source": [
    "# Training the model\n",
    "\n",
    "model1 = pipeline1.fit(train_data)\n",
    "\n",
    "# Making predictions on the test set\n",
    "\n",
    "predictions1 = model1.transform(test_data)"
   ]
  },
  {
   "cell_type": "code",
   "execution_count": 0,
   "metadata": {
    "application/vnd.databricks.v1+cell": {
     "cellMetadata": {
      "byteLimit": 2048000,
      "rowLimit": 10000
     },
     "inputWidgets": {},
     "nuid": "ca29a047-7738-42a9-b7af-19752a8ce7d9",
     "showTitle": false,
     "title": ""
    }
   },
   "outputs": [
    {
     "output_type": "stream",
     "name": "stdout",
     "output_type": "stream",
     "text": [
      "F1_Score : 0.6676590687854768\n---------------------------------\nAccuracy =  0.7704805041354864\n"
     ]
    }
   ],
   "source": [
    "# Evaluating the model\n",
    "\n",
    "evaluator1 = MulticlassClassificationEvaluator(labelCol=\"label\")\n",
    "f1_score_1 = evaluator1.evaluate(predictions1)\n",
    "\n",
    "print(f\"F1_Score : {f1_score_1}\")\n",
    "print(\"---------------------------------\")\n",
    "acc_1 = evaluator1.evaluate(predictions1, {evaluator1.metricName: \"accuracy\"})\n",
    "print(\"Accuracy = \",acc_1)"
   ]
  },
  {
   "cell_type": "markdown",
   "metadata": {
    "application/vnd.databricks.v1+cell": {
     "cellMetadata": {
      "byteLimit": 2048000,
      "rowLimit": 10000
     },
     "inputWidgets": {},
     "nuid": "38384fd0-993d-48dc-95f6-20118e521095",
     "showTitle": false,
     "title": ""
    }
   },
   "source": [
    "## Model 2"
   ]
  },
  {
   "cell_type": "code",
   "execution_count": 0,
   "metadata": {
    "application/vnd.databricks.v1+cell": {
     "cellMetadata": {
      "byteLimit": 2048000,
      "rowLimit": 10000
     },
     "inputWidgets": {},
     "nuid": "6e352eee-7e15-41f4-aab3-f88993a548be",
     "showTitle": false,
     "title": ""
    }
   },
   "outputs": [],
   "source": [
    "# Instantiating the RandomForestClassifier model\n",
    "\n",
    "dt = DecisionTreeClassifier(featuresCol=\"scaled_features\", labelCol=\"label\",maxBins=64)\n",
    "\n",
    "# Creating a Pipeline so that the transformation can be applied in a streamlined and organized approach\n",
    "\n",
    "pipeline2 = Pipeline(stages=[dt])\n",
    "\n",
    "# Training the model\n",
    "\n",
    "model2 = pipeline2.fit(train_data)\n",
    "\n",
    "# Making predictions on the test set\n",
    "\n",
    "predictions2 = model2.transform(test_data)"
   ]
  },
  {
   "cell_type": "code",
   "execution_count": 0,
   "metadata": {
    "application/vnd.databricks.v1+cell": {
     "cellMetadata": {
      "byteLimit": 2048000,
      "rowLimit": 10000
     },
     "inputWidgets": {},
     "nuid": "f1d7760e-b681-41a1-a5ce-af23a9e5f5a3",
     "showTitle": false,
     "title": ""
    }
   },
   "outputs": [
    {
     "output_type": "stream",
     "name": "stdout",
     "output_type": "stream",
     "text": [
      "F1_Score : 0.6676590687854768\n---------------------------------\nAccuracy =  0.7683215130023641\n"
     ]
    }
   ],
   "source": [
    "# Evaluating the model\n",
    "\n",
    "evaluator2 = MulticlassClassificationEvaluator(labelCol=\"label\")\n",
    "f1_score_2 = evaluator2.evaluate(predictions2)\n",
    "\n",
    "print(f\"F1_Score : {f1_score_2}\")\n",
    "print(\"---------------------------------\")\n",
    "acc_2 = evaluator2.evaluate(predictions2, {evaluator2.metricName: \"accuracy\"})\n",
    "print(\"Accuracy = \",acc_2)"
   ]
  },
  {
   "cell_type": "code",
   "execution_count": 0,
   "metadata": {
    "application/vnd.databricks.v1+cell": {
     "cellMetadata": {
      "byteLimit": 2048000,
      "rowLimit": 10000
     },
     "inputWidgets": {},
     "nuid": "f6b76eed-3e14-4a91-9445-08828b72eddd",
     "showTitle": false,
     "title": ""
    }
   },
   "outputs": [],
   "source": [
    "df_result = pd.Series({'F1 Score of Random Forest Classifier': f1_score_1, \n",
    "               'Accuracy of Random Forest Classifier': acc_1,\n",
    "               'F1 Score of Decision Tree Classifier': f1_score_2,\n",
    "               'Accuracy of Decision Tree Classifier' :acc_2 })"
   ]
  },
  {
   "cell_type": "code",
   "execution_count": 0,
   "metadata": {
    "application/vnd.databricks.v1+cell": {
     "cellMetadata": {
      "byteLimit": 2048000,
      "rowLimit": 10000
     },
     "inputWidgets": {},
     "nuid": "ce65bc16-d6fc-410f-9edd-4da5d562b6b3",
     "showTitle": false,
     "title": ""
    }
   },
   "outputs": [
    {
     "output_type": "stream",
     "name": "stdout",
     "output_type": "stream",
     "text": [
      "Out[49]: F1 Score of Random Forest Classifier    0.667659\nAccuracy of Random Forest Classifier    0.770481\nF1 Score of Decision Tree Classifier    0.667659\nAccuracy of Decision Tree Classifier    0.768322\ndtype: float64"
     ]
    }
   ],
   "source": [
    "df_result"
   ]
  }
 ],
 "metadata": {
  "application/vnd.databricks.v1+notebook": {
   "dashboards": [],
   "language": "python",
   "notebookMetadata": {
    "pythonIndentUnit": 4
   },
   "notebookName": "S3 Mini project Final",
   "widgets": {}
  }
 },
 "nbformat": 4,
 "nbformat_minor": 0
}
